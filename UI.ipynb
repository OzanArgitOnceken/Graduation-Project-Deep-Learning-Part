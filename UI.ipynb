{
 "cells": [
  {
   "cell_type": "code",
   "execution_count": null,
   "id": "f3ea25e9",
   "metadata": {},
   "outputs": [],
   "source": [
    "import tkinter as tk\n",
    "from tkinter import filedialog\n",
    "from PIL import Image, ImageTk\n",
    "import tensorflow as tf\n",
    "from tensorflow.keras.models import load_model\n",
    "import numpy as np\n",
    "\n",
    "# Modelinizi yükleyin\n",
    "model_path = 'model4.keras'  # Modelin dosya yolu\n",
    "model = load_model(model_path)\n",
    "\n",
    "# GUI oluşturma\n",
    "class ImageClassifierApp:\n",
    "    def __init__(self, root):\n",
    "        self.root = root\n",
    "        self.root.title(\"Image Classifier\")\n",
    "\n",
    "        self.label = tk.Label(self.root, text=\"Chosen image:\")\n",
    "        self.label.pack()\n",
    "\n",
    "        self.canvas = tk.Canvas(self.root, width=300, height=300)\n",
    "        self.canvas.pack()\n",
    "\n",
    "        self.select_button = tk.Button(self.root, text=\"Choose image\", command=self.load_image)\n",
    "        self.select_button.pack()\n",
    "\n",
    "        self.classify_button = tk.Button(self.root, text=\"Classify\", command=self.classify_image)\n",
    "        self.classify_button.pack()\n",
    "\n",
    "    def load_image(self):\n",
    "        file_path = filedialog.askopenfilename()\n",
    "        if file_path:\n",
    "            self.image = Image.open(file_path)\n",
    "            self.image.thumbnail((300, 300))\n",
    "            self.photo = ImageTk.PhotoImage(self.image)\n",
    "            self.canvas.create_image(0, 0, anchor=tk.NW, image=self.photo)\n",
    "    def classify_image(self):\n",
    "        if hasattr(self, 'image'):\n",
    "            # Görüntüyü modelin giriş boyutuna uygun şekilde ön işleme yapın\n",
    "            input_shape = model.input_shape[1:3]\n",
    "            img = self.image.resize(input_shape)\n",
    "\n",
    "            # RGB formata çevir\n",
    "            img = img.convert('RGB')\n",
    "\n",
    "            img_array = np.expand_dims(np.array(img), axis=0) / 255.0\n",
    "\n",
    "            # Sınıflandırma yapın\n",
    "            prediction = model.predict(img_array)\n",
    "            class_index = np.argmax(prediction)\n",
    "\n",
    "            # Sınıf ismini burada alabilirsiniz (örneğin, [\"LeftUp\", \"LeftDown\", \"RightUp\", \"RightDown\"])\n",
    "            class_names = [\"LeftDown\", \"LeftUp\", \"RightDown\", \"RightUp\"]\n",
    "            predicted_class = class_names[class_index]\n",
    "\n",
    "            # Sonucu kullanıcıya gösterin\n",
    "            result_text = f\"Class: {predicted_class}\"\n",
    "            tk.messagebox.showinfo(\"Result\", result_text)\n",
    "        else:\n",
    "            tk.messagebox.showwarning(\"Warning\", \"Please select an image.\")\n",
    "\n",
    "\n",
    "# Tkinter uygulamasını başlatın\n",
    "root = tk.Tk()\n",
    "app = ImageClassifierApp(root)\n",
    "root.mainloop()\n"
   ]
  },
  {
   "cell_type": "code",
   "execution_count": 2,
   "id": "af4b0f35",
   "metadata": {},
   "outputs": [
    {
     "name": "stdout",
     "output_type": "stream",
     "text": [
      "Requirement already satisfied: PyQt5 in c:\\users\\ozan\\anaconda3\\lib\\site-packages (5.15.7)\n",
      "Requirement already satisfied: PyQt5-sip<13,>=12.11 in c:\\users\\ozan\\anaconda3\\lib\\site-packages (from PyQt5) (12.11.0)\n",
      "Note: you may need to restart the kernel to use updated packages.\n"
     ]
    }
   ],
   "source": [
    "pip install PyQt5\n"
   ]
  },
  {
   "cell_type": "code",
   "execution_count": null,
   "id": "dbc48d74",
   "metadata": {},
   "outputs": [],
   "source": []
  }
 ],
 "metadata": {
  "kernelspec": {
   "display_name": "Python 3 (ipykernel)",
   "language": "python",
   "name": "python3"
  },
  "language_info": {
   "codemirror_mode": {
    "name": "ipython",
    "version": 3
   },
   "file_extension": ".py",
   "mimetype": "text/x-python",
   "name": "python",
   "nbconvert_exporter": "python",
   "pygments_lexer": "ipython3",
   "version": "3.11.5"
  }
 },
 "nbformat": 4,
 "nbformat_minor": 5
}
